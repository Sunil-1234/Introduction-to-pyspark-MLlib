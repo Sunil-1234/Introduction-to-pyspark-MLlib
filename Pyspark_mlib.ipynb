{
  "nbformat": 4,
  "nbformat_minor": 0,
  "metadata": {
    "colab": {
      "name": "Pyspark_mlib.ipynb",
      "provenance": [],
      "authorship_tag": "ABX9TyNUUFc7xuaTTRxbcO8XD34I",
      "include_colab_link": true
    },
    "kernelspec": {
      "name": "python3",
      "display_name": "Python 3"
    },
    "language_info": {
      "name": "python"
    }
  },
  "cells": [
    {
      "cell_type": "markdown",
      "metadata": {
        "id": "view-in-github",
        "colab_type": "text"
      },
      "source": [
        "<a href=\"https://colab.research.google.com/github/Sunil-1234/Introduction-to-pyspark-MLlib/blob/main/Pyspark_mlib.ipynb\" target=\"_parent\"><img src=\"https://colab.research.google.com/assets/colab-badge.svg\" alt=\"Open In Colab\"/></a>"
      ]
    },
    {
      "cell_type": "markdown",
      "source": [
        "Download dataset from https://www.kaggle.com/datasets/saurabh00007/iriscsv"
      ],
      "metadata": {
        "id": "T9KlYHQioIlM"
      }
    },
    {
      "cell_type": "code",
      "source": [
        "pip install pyspark"
      ],
      "metadata": {
        "colab": {
          "base_uri": "https://localhost:8080/"
        },
        "id": "PuWahdVskjdr",
        "outputId": "5e1a14c4-51af-4493-e488-ed5d40552c6c"
      },
      "execution_count": 2,
      "outputs": [
        {
          "output_type": "stream",
          "name": "stdout",
          "text": [
            "Looking in indexes: https://pypi.org/simple, https://us-python.pkg.dev/colab-wheels/public/simple/\n",
            "Collecting pyspark\n",
            "  Downloading pyspark-3.2.1.tar.gz (281.4 MB)\n",
            "\u001b[K     |████████████████████████████████| 281.4 MB 35 kB/s \n",
            "\u001b[?25hCollecting py4j==0.10.9.3\n",
            "  Downloading py4j-0.10.9.3-py2.py3-none-any.whl (198 kB)\n",
            "\u001b[K     |████████████████████████████████| 198 kB 42.3 MB/s \n",
            "\u001b[?25hBuilding wheels for collected packages: pyspark\n",
            "  Building wheel for pyspark (setup.py) ... \u001b[?25l\u001b[?25hdone\n",
            "  Created wheel for pyspark: filename=pyspark-3.2.1-py2.py3-none-any.whl size=281853642 sha256=28cba37b55e9de4b7436748a69d3cff93c7302408ff86e4589a9a3da4f897ca1\n",
            "  Stored in directory: /root/.cache/pip/wheels/9f/f5/07/7cd8017084dce4e93e84e92efd1e1d5334db05f2e83bcef74f\n",
            "Successfully built pyspark\n",
            "Installing collected packages: py4j, pyspark\n",
            "Successfully installed py4j-0.10.9.3 pyspark-3.2.1\n"
          ]
        }
      ]
    },
    {
      "cell_type": "code",
      "execution_count": 4,
      "metadata": {
        "id": "UfedpELihzxM"
      },
      "outputs": [],
      "source": [
        "import pyspark"
      ]
    },
    {
      "cell_type": "code",
      "source": [
        "#import sparksession to create new session\n",
        "from pyspark.sql import SparkSession as ss"
      ],
      "metadata": {
        "id": "KIb6Cn8Akcvw"
      },
      "execution_count": 5,
      "outputs": []
    },
    {
      "cell_type": "code",
      "source": [
        "#creating new session\n",
        "spark=ss.builder.appName('practice').getOrCreate()"
      ],
      "metadata": {
        "id": "WibS4CwtkgSG"
      },
      "execution_count": 6,
      "outputs": []
    },
    {
      "cell_type": "code",
      "source": [
        "#loading dataset\n",
        "data=spark.read.csv('IRIS.csv',header=True,inferSchema=True)"
      ],
      "metadata": {
        "id": "yuR5TTlQk1f5"
      },
      "execution_count": 8,
      "outputs": []
    },
    {
      "cell_type": "code",
      "source": [
        "data.show()"
      ],
      "metadata": {
        "colab": {
          "base_uri": "https://localhost:8080/"
        },
        "id": "NcY_WLellCnY",
        "outputId": "ee741d62-2a4c-4664-ac51-1d4f1476ce05"
      },
      "execution_count": 9,
      "outputs": [
        {
          "output_type": "stream",
          "name": "stdout",
          "text": [
            "+------------+-----------+------------+-----------+-----------+\n",
            "|sepal_length|sepal_width|petal_length|petal_width|    species|\n",
            "+------------+-----------+------------+-----------+-----------+\n",
            "|         5.1|        3.5|         1.4|        0.2|Iris-setosa|\n",
            "|         4.9|        3.0|         1.4|        0.2|Iris-setosa|\n",
            "|         4.7|        3.2|         1.3|        0.2|Iris-setosa|\n",
            "|         4.6|        3.1|         1.5|        0.2|Iris-setosa|\n",
            "|         5.0|        3.6|         1.4|        0.2|Iris-setosa|\n",
            "|         5.4|        3.9|         1.7|        0.4|Iris-setosa|\n",
            "|         4.6|        3.4|         1.4|        0.3|Iris-setosa|\n",
            "|         5.0|        3.4|         1.5|        0.2|Iris-setosa|\n",
            "|         4.4|        2.9|         1.4|        0.2|Iris-setosa|\n",
            "|         4.9|        3.1|         1.5|        0.1|Iris-setosa|\n",
            "|         5.4|        3.7|         1.5|        0.2|Iris-setosa|\n",
            "|         4.8|        3.4|         1.6|        0.2|Iris-setosa|\n",
            "|         4.8|        3.0|         1.4|        0.1|Iris-setosa|\n",
            "|         4.3|        3.0|         1.1|        0.1|Iris-setosa|\n",
            "|         5.8|        4.0|         1.2|        0.2|Iris-setosa|\n",
            "|         5.7|        4.4|         1.5|        0.4|Iris-setosa|\n",
            "|         5.4|        3.9|         1.3|        0.4|Iris-setosa|\n",
            "|         5.1|        3.5|         1.4|        0.3|Iris-setosa|\n",
            "|         5.7|        3.8|         1.7|        0.3|Iris-setosa|\n",
            "|         5.1|        3.8|         1.5|        0.3|Iris-setosa|\n",
            "+------------+-----------+------------+-----------+-----------+\n",
            "only showing top 20 rows\n",
            "\n"
          ]
        }
      ]
    },
    {
      "cell_type": "code",
      "source": [
        "data.printSchema()"
      ],
      "metadata": {
        "colab": {
          "base_uri": "https://localhost:8080/"
        },
        "id": "DhiEIi9rlLq4",
        "outputId": "a2b265be-9d38-46a4-f1be-492e0174eb72"
      },
      "execution_count": 10,
      "outputs": [
        {
          "output_type": "stream",
          "name": "stdout",
          "text": [
            "root\n",
            " |-- sepal_length: double (nullable = true)\n",
            " |-- sepal_width: double (nullable = true)\n",
            " |-- petal_length: double (nullable = true)\n",
            " |-- petal_width: double (nullable = true)\n",
            " |-- species: string (nullable = true)\n",
            "\n"
          ]
        }
      ]
    },
    {
      "cell_type": "markdown",
      "source": [
        "Using Linear Regression we will try to predict petal_length using sepal_length and sepal_width"
      ],
      "metadata": {
        "id": "V2ErGWHglUn7"
      }
    },
    {
      "cell_type": "code",
      "source": [
        "#importing required library for performing ml\n",
        "from pyspark.ml.feature import VectorAssembler\n"
      ],
      "metadata": {
        "id": "I5mLEfNDlhKh"
      },
      "execution_count": 11,
      "outputs": []
    },
    {
      "cell_type": "markdown",
      "source": [
        "[sepal_length ,Sepal_width]----> new feature--->independent feature"
      ],
      "metadata": {
        "id": "VTmmEyQql1Df"
      }
    },
    {
      "cell_type": "code",
      "source": [
        "featureassembler=VectorAssembler(inputCols=[\"sepal_length\",\"sepal_width\"],outputCol=\"Independent Features\")"
      ],
      "metadata": {
        "id": "qJHjd_OjlSeJ"
      },
      "execution_count": 12,
      "outputs": []
    },
    {
      "cell_type": "code",
      "source": [
        "# Transforming our dataset\n",
        "output=featureassembler.transform(data)"
      ],
      "metadata": {
        "id": "B4SCyWMhmSKU"
      },
      "execution_count": 14,
      "outputs": []
    },
    {
      "cell_type": "code",
      "source": [
        "output.show()"
      ],
      "metadata": {
        "colab": {
          "base_uri": "https://localhost:8080/"
        },
        "id": "lNaVj-S-mTMM",
        "outputId": "93d95026-dc02-4223-dac9-5e299acec03b"
      },
      "execution_count": 15,
      "outputs": [
        {
          "output_type": "stream",
          "name": "stdout",
          "text": [
            "+------------+-----------+------------+-----------+-----------+--------------------+\n",
            "|sepal_length|sepal_width|petal_length|petal_width|    species|Independent Features|\n",
            "+------------+-----------+------------+-----------+-----------+--------------------+\n",
            "|         5.1|        3.5|         1.4|        0.2|Iris-setosa|           [5.1,3.5]|\n",
            "|         4.9|        3.0|         1.4|        0.2|Iris-setosa|           [4.9,3.0]|\n",
            "|         4.7|        3.2|         1.3|        0.2|Iris-setosa|           [4.7,3.2]|\n",
            "|         4.6|        3.1|         1.5|        0.2|Iris-setosa|           [4.6,3.1]|\n",
            "|         5.0|        3.6|         1.4|        0.2|Iris-setosa|           [5.0,3.6]|\n",
            "|         5.4|        3.9|         1.7|        0.4|Iris-setosa|           [5.4,3.9]|\n",
            "|         4.6|        3.4|         1.4|        0.3|Iris-setosa|           [4.6,3.4]|\n",
            "|         5.0|        3.4|         1.5|        0.2|Iris-setosa|           [5.0,3.4]|\n",
            "|         4.4|        2.9|         1.4|        0.2|Iris-setosa|           [4.4,2.9]|\n",
            "|         4.9|        3.1|         1.5|        0.1|Iris-setosa|           [4.9,3.1]|\n",
            "|         5.4|        3.7|         1.5|        0.2|Iris-setosa|           [5.4,3.7]|\n",
            "|         4.8|        3.4|         1.6|        0.2|Iris-setosa|           [4.8,3.4]|\n",
            "|         4.8|        3.0|         1.4|        0.1|Iris-setosa|           [4.8,3.0]|\n",
            "|         4.3|        3.0|         1.1|        0.1|Iris-setosa|           [4.3,3.0]|\n",
            "|         5.8|        4.0|         1.2|        0.2|Iris-setosa|           [5.8,4.0]|\n",
            "|         5.7|        4.4|         1.5|        0.4|Iris-setosa|           [5.7,4.4]|\n",
            "|         5.4|        3.9|         1.3|        0.4|Iris-setosa|           [5.4,3.9]|\n",
            "|         5.1|        3.5|         1.4|        0.3|Iris-setosa|           [5.1,3.5]|\n",
            "|         5.7|        3.8|         1.7|        0.3|Iris-setosa|           [5.7,3.8]|\n",
            "|         5.1|        3.8|         1.5|        0.3|Iris-setosa|           [5.1,3.8]|\n",
            "+------------+-----------+------------+-----------+-----------+--------------------+\n",
            "only showing top 20 rows\n",
            "\n"
          ]
        }
      ]
    },
    {
      "cell_type": "markdown",
      "source": [
        "From above output we can see tht new column is added from which we predict the value of petal_length"
      ],
      "metadata": {
        "id": "PYi4SW8MmfDw"
      }
    },
    {
      "cell_type": "code",
      "source": [
        "# Creating new dataframe which contain only dependent and independent columnn\n",
        "finalized_data=output.select(\"Independent Features\",\"petal_length\")"
      ],
      "metadata": {
        "id": "CFiTZav4mb7R"
      },
      "execution_count": 16,
      "outputs": []
    },
    {
      "cell_type": "code",
      "source": [
        "finalized_data.show()"
      ],
      "metadata": {
        "colab": {
          "base_uri": "https://localhost:8080/"
        },
        "id": "WWTpjz2kmwwA",
        "outputId": "b8652a41-06fd-4960-d890-0daedec858bd"
      },
      "execution_count": 18,
      "outputs": [
        {
          "output_type": "stream",
          "name": "stdout",
          "text": [
            "+--------------------+------------+\n",
            "|Independent Features|petal_length|\n",
            "+--------------------+------------+\n",
            "|           [5.1,3.5]|         1.4|\n",
            "|           [4.9,3.0]|         1.4|\n",
            "|           [4.7,3.2]|         1.3|\n",
            "|           [4.6,3.1]|         1.5|\n",
            "|           [5.0,3.6]|         1.4|\n",
            "|           [5.4,3.9]|         1.7|\n",
            "|           [4.6,3.4]|         1.4|\n",
            "|           [5.0,3.4]|         1.5|\n",
            "|           [4.4,2.9]|         1.4|\n",
            "|           [4.9,3.1]|         1.5|\n",
            "|           [5.4,3.7]|         1.5|\n",
            "|           [4.8,3.4]|         1.6|\n",
            "|           [4.8,3.0]|         1.4|\n",
            "|           [4.3,3.0]|         1.1|\n",
            "|           [5.8,4.0]|         1.2|\n",
            "|           [5.7,4.4]|         1.5|\n",
            "|           [5.4,3.9]|         1.3|\n",
            "|           [5.1,3.5]|         1.4|\n",
            "|           [5.7,3.8]|         1.7|\n",
            "|           [5.1,3.8]|         1.5|\n",
            "+--------------------+------------+\n",
            "only showing top 20 rows\n",
            "\n"
          ]
        }
      ]
    },
    {
      "cell_type": "code",
      "source": [
        "from pyspark.ml.regression import LinearRegression\n",
        "##train test split\n",
        "train_data,test_data=finalized_data.randomSplit([0.75,0.25])\n",
        "#Defining dependent and independent column\n",
        "regressor=LinearRegression(featuresCol='Independent Features', labelCol='petal_length')\n",
        "#fitting value into linear regression\n",
        "regressor=regressor.fit(train_data)"
      ],
      "metadata": {
        "id": "Ag4cVqv0m1wa"
      },
      "execution_count": 19,
      "outputs": []
    },
    {
      "cell_type": "code",
      "source": [
        "### Coefficients\n",
        "regressor.coefficients"
      ],
      "metadata": {
        "colab": {
          "base_uri": "https://localhost:8080/"
        },
        "id": "kv6qz-lWnX3C",
        "outputId": "6dc80745-16a4-423a-dd9b-896965488f1f"
      },
      "execution_count": 20,
      "outputs": [
        {
          "output_type": "execute_result",
          "data": {
            "text/plain": [
              "DenseVector([1.7158, -1.4327])"
            ]
          },
          "metadata": {},
          "execution_count": 20
        }
      ]
    },
    {
      "cell_type": "code",
      "source": [
        "### Intercepts\n",
        "regressor.intercept"
      ],
      "metadata": {
        "colab": {
          "base_uri": "https://localhost:8080/"
        },
        "id": "v_3P5WVhneg8",
        "outputId": "011e951c-a203-4652-ebfb-0dbea40f319b"
      },
      "execution_count": 21,
      "outputs": [
        {
          "output_type": "execute_result",
          "data": {
            "text/plain": [
              "-1.954103133941681"
            ]
          },
          "metadata": {},
          "execution_count": 21
        }
      ]
    },
    {
      "cell_type": "code",
      "source": [
        "### Predict the output value using evaluate method of linear-regression\n",
        "pred_results=regressor.evaluate(test_data)"
      ],
      "metadata": {
        "id": "g_aKOnmenkvn"
      },
      "execution_count": 22,
      "outputs": []
    },
    {
      "cell_type": "code",
      "source": [
        "#printing prediction value\n",
        "pred_results.predictions.show()"
      ],
      "metadata": {
        "colab": {
          "base_uri": "https://localhost:8080/"
        },
        "id": "GA1DXwc_nynp",
        "outputId": "f3839412-2082-4a5f-d565-4c7d8b66e8ba"
      },
      "execution_count": 23,
      "outputs": [
        {
          "output_type": "stream",
          "name": "stderr",
          "text": [
            "/usr/local/lib/python3.7/dist-packages/pyspark/sql/context.py:127: FutureWarning: Deprecated in 3.0.0. Use SparkSession.builder.getOrCreate() instead.\n",
            "  FutureWarning\n"
          ]
        },
        {
          "output_type": "stream",
          "name": "stdout",
          "text": [
            "+--------------------+------------+------------------+\n",
            "|Independent Features|petal_length|        prediction|\n",
            "+--------------------+------------+------------------+\n",
            "|           [4.4,2.9]|         1.4|1.4407730462142554|\n",
            "|           [4.4,3.2]|         1.3|1.0109641866986065|\n",
            "|           [4.6,3.4]|         1.4|1.0675929086339553|\n",
            "|           [4.8,3.0]|         1.4| 1.983839349600603|\n",
            "|           [4.8,3.0]|         1.4| 1.983839349600603|\n",
            "|           [4.8,3.4]|         1.6|1.4107608702464047|\n",
            "|           [4.9,3.0]|         1.4| 2.155423330406829|\n",
            "|           [5.0,2.0]|         3.5|3.7597035095985483|\n",
            "|           [5.0,2.3]|         3.3|   3.3298946500829|\n",
            "|           [5.0,3.0]|         1.6|2.3270073112130527|\n",
            "|           [5.1,3.8]|         1.5|1.3524343333108801|\n",
            "|           [5.1,3.8]|         1.6|1.3524343333108801|\n",
            "|           [5.2,2.7]|         3.9| 3.099984132341149|\n",
            "|           [5.2,3.4]|         1.4|2.0970967934713025|\n",
            "|           [5.4,3.4]|         1.7| 2.440264755083752|\n",
            "|           [5.4,3.9]|         1.3|1.7239166558910035|\n",
            "|           [5.5,2.3]|         4.0| 4.187814554114021|\n",
            "|           [5.5,2.6]|         4.4|3.7580056945983715|\n",
            "|           [5.6,2.7]|         4.2| 3.786320055566046|\n",
            "|           [5.6,3.0]|         4.5|3.3565111960503975|\n",
            "+--------------------+------------+------------------+\n",
            "only showing top 20 rows\n",
            "\n"
          ]
        }
      ]
    },
    {
      "cell_type": "code",
      "source": [
        "pred_results.meanAbsoluteError,pred_results.meanSquaredError"
      ],
      "metadata": {
        "colab": {
          "base_uri": "https://localhost:8080/"
        },
        "id": "LnwTPOfyn4O6",
        "outputId": "3e33b311-3b0e-470b-c39b-37ef68ed3731"
      },
      "execution_count": 24,
      "outputs": [
        {
          "output_type": "execute_result",
          "data": {
            "text/plain": [
              "(0.5867024229031251, 0.49732075019771743)"
            ]
          },
          "metadata": {},
          "execution_count": 24
        }
      ]
    },
    {
      "cell_type": "code",
      "source": [
        ""
      ],
      "metadata": {
        "id": "hlCRVQIToBeB"
      },
      "execution_count": null,
      "outputs": []
    }
  ]
}